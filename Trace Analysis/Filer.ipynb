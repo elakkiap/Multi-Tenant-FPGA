{
 "cells": [
  {
   "cell_type": "code",
   "execution_count": 2,
   "metadata": {},
   "outputs": [
    {
     "ename": "SyntaxError",
     "evalue": "invalid syntax (<ipython-input-2-85c519ebca48>, line 7)",
     "output_type": "error",
     "traceback": [
      "\u001b[1;36m  File \u001b[1;32m\"<ipython-input-2-85c519ebca48>\"\u001b[1;36m, line \u001b[1;32m7\u001b[0m\n\u001b[1;33m    from \"C:\\Users\\Aniket Tiwari\\Desktop\\books\\grad\\Embedded system prototyping\" import Edge.py\u001b[0m\n\u001b[1;37m                                                                               ^\u001b[0m\n\u001b[1;31mSyntaxError\u001b[0m\u001b[1;31m:\u001b[0m invalid syntax\n"
     ]
    }
   ],
   "source": [
    "%matplotlib inline\n",
    "import numpy as np\n",
    "import pandas as pd\n",
    "import matplotlib.pyplot as plt\n",
    "from scipy.fftpack import fft\n",
    "from scipy.fftpack import rfft"
   ]
  },
  {
   "cell_type": "code",
   "execution_count": 15,
   "metadata": {},
   "outputs": [
    {
     "data": {
      "text/plain": [
       "[<matplotlib.lines.Line2D at 0x251d6443438>]"
      ]
     },
     "execution_count": 15,
     "metadata": {},
     "output_type": "execute_result"
    },
    {
     "data": {
      "image/png": "[encoded data removed]",
      "text/plain": [
       "<Figure size 432x288 with 1 Axes>"
      ]
     },
     "metadata": {
      "needs_background": "light"
     },
     "output_type": "display_data"
    }
   ],
   "source": [
    "import os\n",
    "datapath = r\"C:\\Users\\Aniket Tiwari\\Desktop\\books\\grad\\Embedded system prototyping\\data-baseline\"\n",
    "path = os.path.join(datapath,\"249\",\"DATA.txt\")\n",
    "a = np.loadtxt(path)\n",
    "fs = np.abs(rfft(a))\n",
    "fs = fs[:8191]\n",
    "\n",
    "for i in range(249):\n",
    "    path = os.path.join(datapath,str(i),\"DATA.txt\")\n",
    "    a = np.loadtxt(path)\n",
    "    fr = np.abs(rfft(a))\n",
    "    fr = fr[:8191]\n",
    "    fs = fr + fs\n",
    "\n",
    "fs =fs/250\n",
    "plt.plot(fs)"
   ]
  },
  {
   "cell_type": "code",
   "execution_count": 32,
   "metadata": {},
   "outputs": [],
   "source": [
    "datapath = r\"C:\\Users\\Aniket Tiwari\\Desktop\\books\\grad\\Embedded system prototyping\\aes-baseline\\16K_Sample_Traces\"\n",
    "\n",
    "for i in range(125):\n",
    "    path = os.path.join(datapath,str(i))\n",
    "    for files in os.listdir(path):\n",
    "        if files.startswith(\"DATA\"):\n",
    "            og_name = os.path.join(path,files)\n",
    "            r_name = os.path.join(path,\"DATA.txt\")\n",
    "            os.rename(og_name, r_name)\n",
    "\n",
    "datapath = r\"C:\\Users\\Aniket Tiwari\\Desktop\\books\\grad\\Embedded system prototyping\\aes-baseline\\64K_Sample_Traces\"\n",
    "\n",
    "for i in range(120):\n",
    "    path = os.path.join(datapath,str(i))\n",
    "    for files in os.listdir(path):\n",
    "        if files.startswith(\"DATA\"):\n",
    "            og_name = os.path.join(path,files)\n",
    "            r_name = os.path.join(path,\"DATA.txt\")\n",
    "            os.rename(og_name, r_name)\n"
   ]
  },
  {
   "cell_type": "code",
   "execution_count": 33,
   "metadata": {},
   "outputs": [],
   "source": [
    "datapath = r\"C:\\Users\\Aniket Tiwari\\Desktop\\books\\grad\\Embedded system prototyping\\pw-1024\"\n",
    "\n",
    "for i in range(250):\n",
    "    path = os.path.join(datapath,str(i))\n",
    "    for files in os.listdir(path):\n",
    "        if files.startswith(\"DATA\"):\n",
    "            og_name = os.path.join(path,files)"
   ]
  },
  {
   "cell_type": "code",
   "execution_count": null,
   "metadata": {},
   "outputs": [],
   "source": []
  }
 ],
 "metadata": {
  "kernelspec": {
   "display_name": "Python 3",
   "language": "python",
   "name": "python3"
  },
  "language_info": {
   "codemirror_mode": {
    "name": "ipython",
    "version": 3
   },
   "file_extension": ".py",
   "mimetype": "text/x-python",
   "name": "python",
   "nbconvert_exporter": "python",
   "pygments_lexer": "ipython3",
   "version": "3.7.3"
  }
 },
 "nbformat": 4,
 "nbformat_minor": 4
}
